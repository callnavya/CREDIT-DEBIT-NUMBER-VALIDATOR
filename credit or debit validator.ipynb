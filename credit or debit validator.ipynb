{
 "cells": [
  {
   "cell_type": "code",
   "execution_count": 2,
   "metadata": {},
   "outputs": [
    {
     "name": "stdout",
     "output_type": "stream",
     "text": [
      "WELCOME TO CREDIT NUMBER VALIDATOR\n",
      "Enter the 16 digit number you want to check: 1234567890123456\n",
      "INVALID CREDIT/DEBIT NUMBER\n"
     ]
    }
   ],
   "source": [
    "def reverse_digit(num):\n",
    "    rev=0\n",
    "    while num>0:\n",
    "        a=num%10\n",
    "        rev=rev*10+a\n",
    "        num=num//10\n",
    "    return rev\n",
    "def multiply_and_add(x):\n",
    "    i=0\n",
    "    s=0\n",
    "    #while num>0\n",
    "    while x>0:\n",
    "        new=x%10\n",
    "        x=x//10\n",
    "        #check for odd position\n",
    "        if i%2==0:\n",
    "            #if odd pos the mul by 2\n",
    "            new=new*2\n",
    "            #if new>=10, then new=new-9 until new<10\n",
    "            if new>=10:\n",
    "                while new>=10:\n",
    "                    new=new-9\n",
    "            \n",
    "        #if not odd, simply add new to sum s\n",
    "        s=s+new\n",
    "        i+=1\n",
    "    return (s)\n",
    "            \n",
    "#DRIVER PROGRAM\n",
    "print('WELCOME TO CREDIT NUMBER VALIDATOR')\n",
    "n= int(input('Enter the 16 digit number you want to check: '))\n",
    "m=0\n",
    "m=n%10\n",
    "n=n//10\n",
    "number=reverse_digit(n)\n",
    "number_2=multiply_and_add(number)\n",
    "if (number_2+m)%10==0:\n",
    "    print('VALID CREDIT/DEBIT NUMBER')\n",
    "else:\n",
    "    print('INVALID CREDIT/DEBIT NUMBER')"
   ]
  },
  {
   "cell_type": "code",
   "execution_count": null,
   "metadata": {},
   "outputs": [],
   "source": []
  },
  {
   "cell_type": "code",
   "execution_count": null,
   "metadata": {},
   "outputs": [],
   "source": []
  }
 ],
 "metadata": {
  "kernelspec": {
   "display_name": "Python 3",
   "language": "python",
   "name": "python3"
  },
  "language_info": {
   "codemirror_mode": {
    "name": "ipython",
    "version": 3
   },
   "file_extension": ".py",
   "mimetype": "text/x-python",
   "name": "python",
   "nbconvert_exporter": "python",
   "pygments_lexer": "ipython3",
   "version": "3.7.6"
  }
 },
 "nbformat": 4,
 "nbformat_minor": 4
}
